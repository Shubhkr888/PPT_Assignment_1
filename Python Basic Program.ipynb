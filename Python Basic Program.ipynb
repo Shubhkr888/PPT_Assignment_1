{
 "cells": [
  {
   "cell_type": "code",
   "execution_count": 1,
   "id": "ce2a1ff5",
   "metadata": {},
   "outputs": [],
   "source": [
    "#1. Write a Python program to reverse a string without using any built-in string reversal functions."
   ]
  },
  {
   "cell_type": "code",
   "execution_count": 2,
   "id": "078a86ea",
   "metadata": {},
   "outputs": [
    {
     "name": "stdout",
     "output_type": "stream",
     "text": [
      "ecneicS ataD kcatS lluF\n"
     ]
    }
   ],
   "source": [
    "str = \"Full Stack Data Science\"\n",
    "print(str[::-1])"
   ]
  },
  {
   "cell_type": "code",
   "execution_count": 3,
   "id": "3f3d2aa2",
   "metadata": {},
   "outputs": [],
   "source": [
    "#2.Implement a function to check if a given string is a palindrome.\n",
    "\n",
    "def palindrone(str):\n",
    "    if str == str[::-1]:\n",
    "        print(\"palindome\")\n",
    "    else:\n",
    "        print(\"Not palindrome\")"
   ]
  },
  {
   "cell_type": "code",
   "execution_count": 4,
   "id": "a0c5f0c2",
   "metadata": {},
   "outputs": [
    {
     "name": "stdout",
     "output_type": "stream",
     "text": [
      "Not palindrome\n"
     ]
    }
   ],
   "source": [
    "palindrone(\"Shubham\")"
   ]
  },
  {
   "cell_type": "code",
   "execution_count": 5,
   "id": "494f1828",
   "metadata": {},
   "outputs": [
    {
     "name": "stdout",
     "output_type": "stream",
     "text": [
      "palindome\n"
     ]
    }
   ],
   "source": [
    "palindrone(\"121\")"
   ]
  },
  {
   "cell_type": "code",
   "execution_count": 6,
   "id": "74b75352",
   "metadata": {},
   "outputs": [
    {
     "name": "stdout",
     "output_type": "stream",
     "text": [
      "1000\n"
     ]
    }
   ],
   "source": [
    "#3. Write a program to find the largest element in a given list.\n",
    "\n",
    "mylist = [44,19,24,1000,100,37]\n",
    "mylist.sort()\n",
    "print(mylist[-1])"
   ]
  },
  {
   "cell_type": "code",
   "execution_count": 7,
   "id": "00423106",
   "metadata": {},
   "outputs": [
    {
     "name": "stdout",
     "output_type": "stream",
     "text": [
      "[2, 1, 1, 1, 1, 1, 2]\n"
     ]
    }
   ],
   "source": [
    "#4.Implement a function to count the occurrence of each element in a list.\n",
    "\n",
    "mylist = [44,19,24,1000,100,37,44]\n",
    "list=[]\n",
    "for i in mylist:\n",
    "    list.append(mylist.count(i))\n",
    "print(list)\n",
    "    \n",
    "            "
   ]
  },
  {
   "cell_type": "code",
   "execution_count": 8,
   "id": "96108317",
   "metadata": {},
   "outputs": [
    {
     "name": "stdout",
     "output_type": "stream",
     "text": [
      "100\n"
     ]
    }
   ],
   "source": [
    "#5. Write a Python program to find the second largest number in a list.\n",
    "mylist = [44,19,24,1000,100,37]\n",
    "mylist.sort()\n",
    "print(mylist[-2])"
   ]
  },
  {
   "cell_type": "code",
   "execution_count": 9,
   "id": "9eb8033f",
   "metadata": {},
   "outputs": [
    {
     "name": "stdout",
     "output_type": "stream",
     "text": [
      "{100, 37, 1000, 44, 19, 24}\n"
     ]
    }
   ],
   "source": [
    "#6. Implement a function to remove duplicate elements from a list.\n",
    "mylist = [44,19,24,1000,100,37,44]\n",
    "print(set(mylist))"
   ]
  },
  {
   "cell_type": "code",
   "execution_count": 10,
   "id": "e4c3c871",
   "metadata": {},
   "outputs": [
    {
     "name": "stdout",
     "output_type": "stream",
     "text": [
      "Enter a number: 11\n",
      "The factorial of 11 is 39916800\n"
     ]
    }
   ],
   "source": [
    "#7. Write a program to calculate the factorial of a given number.\n",
    "num = int(input(\"Enter a number: \"))\n",
    "def factorial(x):\n",
    "    if x == 1:\n",
    "        return 1\n",
    "    else:\n",
    "        return (x * factorial(x-1))\n",
    "result = factorial(num)\n",
    "print(\"The factorial of\", num, \"is\", result)\n",
    "    "
   ]
  },
  {
   "cell_type": "code",
   "execution_count": 24,
   "id": "e192094a",
   "metadata": {},
   "outputs": [
    {
     "name": "stdout",
     "output_type": "stream",
     "text": [
      "Enter the number10\n",
      "10  is not prime\n"
     ]
    }
   ],
   "source": [
    "#8. Implement a function to check if a given number is prime.\n",
    "\n",
    "num = int(input(\"Enter the number\"))\n",
    "\n",
    "if num>1:\n",
    "    for i in range(2,num):\n",
    "        if (num%i) == 0:\n",
    "            print(num,\" is not prime\")\n",
    "            break\n",
    "    else:\n",
    "        print(num,\" is prime\")\n",
    "else:\n",
    "    print(num,\" is not prime\")\n",
    "        "
   ]
  },
  {
   "cell_type": "code",
   "execution_count": null,
   "id": "b8a2e545",
   "metadata": {},
   "outputs": [],
   "source": [
    "#9. Write a Python program to sort a list of integers in ascending order.\n",
    "mylist = [44,19,24,1000,100,37]\n",
    "mylist.sort(reverse=False)\n",
    "print(mylist)"
   ]
  },
  {
   "cell_type": "code",
   "execution_count": null,
   "id": "b6fa15f4",
   "metadata": {},
   "outputs": [],
   "source": [
    "#10. Implement a function to find the sum of all numbers in a list.\n",
    "mylist = [44,19,24,1000,100,37,44]\n",
    "def addition():\n",
    "    sum=0\n",
    "    for i in mylist:\n",
    "        sum = sum+i\n",
    "    return sum"
   ]
  },
  {
   "cell_type": "code",
   "execution_count": null,
   "id": "c029830b",
   "metadata": {},
   "outputs": [],
   "source": [
    "addition()"
   ]
  },
  {
   "cell_type": "code",
   "execution_count": 1,
   "id": "40bc1b71",
   "metadata": {},
   "outputs": [
    {
     "name": "stdout",
     "output_type": "stream",
     "text": [
      "[5, 2]\n"
     ]
    }
   ],
   "source": [
    "#11. Write a program to find the common elements between two lists.\n",
    "l1=[1,2,3,4,5]\n",
    "l2=[10,11,5,6,2]\n",
    "l3=[]\n",
    "for i in l2:\n",
    "    if i in l1:\n",
    "        l3.append(i)\n",
    "print(l3)\n",
    "        "
   ]
  },
  {
   "cell_type": "code",
   "execution_count": 8,
   "id": "21718bb9",
   "metadata": {},
   "outputs": [
    {
     "name": "stdout",
     "output_type": "stream",
     "text": [
      "listen and silent are anagrams\n"
     ]
    }
   ],
   "source": [
    "# 12. Implement a function to check if a given string is an anagram of another string.\n",
    "str1=\"listen\"\n",
    "str2=\"silent\"\n",
    "\n",
    "if (sorted(str1) == sorted(str2)):\n",
    "    print(f'{str1} and {str2} are anagrams')"
   ]
  },
  {
   "cell_type": "code",
   "execution_count": 14,
   "id": "4deb7472",
   "metadata": {},
   "outputs": [
    {
     "name": "stdout",
     "output_type": "stream",
     "text": [
      "listen and silent are anagrams\n"
     ]
    }
   ],
   "source": [
    "from collections import Counter\n",
    "str1=\"listen\"\n",
    "str2=\"silent\"\n",
    "if(Counter(str1)==Counter(str2)):\n",
    "    print(f'{str1} and {str2} are anagrams')"
   ]
  },
  {
   "cell_type": "code",
   "execution_count": 24,
   "id": "eb97bd17",
   "metadata": {},
   "outputs": [],
   "source": [
    "#14. Implement a function to calculate the Fibonacci sequence up to a given number of terms.\n",
    "\n",
    "def fib(n):\n",
    "    p,q=0,1\n",
    "    while(p<n):\n",
    "        yield p\n",
    "        p,q=q,p+q\n",
    "\n"
   ]
  },
  {
   "cell_type": "code",
   "execution_count": 25,
   "id": "ef68cf96",
   "metadata": {},
   "outputs": [
    {
     "name": "stdout",
     "output_type": "stream",
     "text": [
      "0\n",
      "1\n",
      "1\n",
      "2\n",
      "3\n",
      "5\n",
      "8\n"
     ]
    }
   ],
   "source": [
    "fib(10)\n",
    "for i in fib(10):\n",
    "    print(i)"
   ]
  },
  {
   "cell_type": "code",
   "execution_count": 145,
   "id": "3406060b",
   "metadata": {},
   "outputs": [
    {
     "name": "stdout",
     "output_type": "stream",
     "text": [
      "5.5\n"
     ]
    }
   ],
   "source": [
    "#15. Write a program to find the median of a list of numbers.\n",
    "\n",
    "l1 = [1,10,3,5,6,7,5,6]\n",
    "l1.sort()\n",
    "mid = len(l1)//2\n",
    "if len(l1)%2 != 0:\n",
    "    print(l1[mid])\n",
    "else:\n",
    "    print((l1[mid]+l1[mid-1])/2)\n",
    "\n"
   ]
  },
  {
   "cell_type": "code",
   "execution_count": 57,
   "id": "dbf04919",
   "metadata": {},
   "outputs": [],
   "source": [
    "#16. Implement a function to check if a given list is sorted in non-decreasing order.\n",
    "import copy\n",
    "list1 = [1,2,53,44]\n",
    "list2=copy.copy(list1)\n",
    "def func():\n",
    "    list1.sort()\n",
    "    if(list1 == list2):\n",
    "        print(\"sorted\")\n",
    "    else:\n",
    "        print(\"not sorted\")\n",
    "        \n",
    "    "
   ]
  },
  {
   "cell_type": "code",
   "execution_count": 58,
   "id": "3ebd62b9",
   "metadata": {},
   "outputs": [
    {
     "name": "stdout",
     "output_type": "stream",
     "text": [
      "not sorted\n"
     ]
    }
   ],
   "source": [
    "func()"
   ]
  },
  {
   "cell_type": "code",
   "execution_count": 64,
   "id": "e2423cbf",
   "metadata": {},
   "outputs": [
    {
     "name": "stdout",
     "output_type": "stream",
     "text": [
      "[2]\n"
     ]
    }
   ],
   "source": [
    "#17. Write a Python program to find the intersection of two lists.\n",
    "\n",
    "list1 = [1,2,53,44]\n",
    "list2 = [10,2,8,19]\n",
    "list3=[]\n",
    "for i in list1:\n",
    "    if i in list2:\n",
    "        list3.append(i)\n",
    "print(list3)"
   ]
  },
  {
   "cell_type": "code",
   "execution_count": 67,
   "id": "689b3e0a",
   "metadata": {},
   "outputs": [],
   "source": [
    "#19. Write a program to remove all vowels from a given string.\n",
    "\n",
    "def remove_vowels(str):\n",
    "    result = \"\"\n",
    "    vowels = \"aeiouAEIOU\"\n",
    "    for i in str:\n",
    "        if i not in vowels:\n",
    "            result = result+i\n",
    "    return result"
   ]
  },
  {
   "cell_type": "code",
   "execution_count": 69,
   "id": "594cb901",
   "metadata": {},
   "outputs": [
    {
     "data": {
      "text/plain": [
       "'Wrt  prgrm t rmv ll vwls frm  gvn strng'"
      ]
     },
     "execution_count": 69,
     "metadata": {},
     "output_type": "execute_result"
    }
   ],
   "source": [
    "remove_vowels(\"Write a program to remove all vowels from a given string\")"
   ]
  },
  {
   "cell_type": "code",
   "execution_count": 89,
   "id": "407411bc",
   "metadata": {},
   "outputs": [],
   "source": [
    "#20. Implement a function to reverse the order of words in a given sentence.\n",
    "def rev_words(str):\n",
    "    split_str=str.split(\" \")\n",
    "    reverse_str=split_str[::-1]\n",
    "    reverse_str=\" \".join(reverse_str)\n",
    "    return reverse_str\n",
    "    "
   ]
  },
  {
   "cell_type": "code",
   "execution_count": 90,
   "id": "3d83bd79",
   "metadata": {},
   "outputs": [
    {
     "data": {
      "text/plain": [
       "'sentence given a in words of order the reverse to function a Implement'"
      ]
     },
     "execution_count": 90,
     "metadata": {},
     "output_type": "execute_result"
    }
   ],
   "source": [
    "rev_words(\"Implement a function to reverse the order of words in a given sentence\")"
   ]
  },
  {
   "cell_type": "code",
   "execution_count": 102,
   "id": "86f43f16",
   "metadata": {},
   "outputs": [
    {
     "name": "stdout",
     "output_type": "stream",
     "text": [
      "anagrams\n"
     ]
    }
   ],
   "source": [
    "#21. Write a Python program to check if two strings are anagrams of each other.\n",
    "str1 = \"My name is shubham\"\n",
    "str2 = \"My name is shubham\"\n",
    "\n",
    "from collections import Counter\n",
    "if Counter(str1) == Counter(str2):\n",
    "    print(\"anagrams\")\n",
    "else:\n",
    "    print(\"not anagrams\")"
   ]
  },
  {
   "cell_type": "code",
   "execution_count": 115,
   "id": "02a0a155",
   "metadata": {},
   "outputs": [
    {
     "name": "stdout",
     "output_type": "stream",
     "text": [
      "n\n"
     ]
    }
   ],
   "source": [
    "#22 Implement a function to find the first non-repeating character in a string.\n",
    "str1 = \"bh name is shubham\"\n",
    "l1=[]\n",
    "from collections import Counter\n",
    "count = dict(Counter(str1))\n",
    "for k,v in count.items():\n",
    "    if v==1:\n",
    "        l1.append(k)\n",
    "print(l1[0])\n"
   ]
  },
  {
   "cell_type": "code",
   "execution_count": 127,
   "id": "07eb5613",
   "metadata": {},
   "outputs": [
    {
     "name": "stdout",
     "output_type": "stream",
     "text": [
      "[1, 5, 7, 7, 9, 10, 16, 79, 111, 177]\n"
     ]
    }
   ],
   "source": [
    "#25. Write a Python program to merge two sorted lists into a single sorted list.\n",
    "\n",
    "list1 = [7,9,10,177,1,5]\n",
    "list2 = [7,111,16,79]\n",
    "list3 = list1+list2\n",
    "list3.sort()\n",
    "print(list3)"
   ]
  },
  {
   "cell_type": "code",
   "execution_count": 128,
   "id": "10657a3a",
   "metadata": {},
   "outputs": [],
   "source": [
    "#26. Implement a function to find the mode of a list of numbers.\n",
    "import statistics\n",
    "def func(numbers):\n",
    "    mode = statistics.mode(numbers)\n",
    "    return mode\n",
    "\n",
    "    "
   ]
  },
  {
   "cell_type": "code",
   "execution_count": 129,
   "id": "b2f0c7ec",
   "metadata": {},
   "outputs": [],
   "source": [
    "numbers=[1,2,2,3,5,4,3,3,10,11,3]"
   ]
  },
  {
   "cell_type": "code",
   "execution_count": 130,
   "id": "d0ea976d",
   "metadata": {},
   "outputs": [
    {
     "data": {
      "text/plain": [
       "3"
      ]
     },
     "execution_count": 130,
     "metadata": {},
     "output_type": "execute_result"
    }
   ],
   "source": [
    "func(numbers)"
   ]
  },
  {
   "cell_type": "code",
   "execution_count": 132,
   "id": "7c666fe1",
   "metadata": {},
   "outputs": [
    {
     "data": {
      "text/plain": [
       "3"
      ]
     },
     "execution_count": 132,
     "metadata": {},
     "output_type": "execute_result"
    }
   ],
   "source": [
    "#27. Write a program to find the greatest common divisor (GCD) of two numbers.\n",
    "import math\n",
    "num1=12\n",
    "num2=15\n",
    "math.gcd(num1,num2)"
   ]
  },
  {
   "cell_type": "code",
   "execution_count": 133,
   "id": "67aebec2",
   "metadata": {},
   "outputs": [],
   "source": [
    "#28. Implement a function to calculate the square root of a given number.\n",
    "def func(num):\n",
    "    num = num**(1/2)\n",
    "    return num"
   ]
  },
  {
   "cell_type": "code",
   "execution_count": 134,
   "id": "ddd0dfd1",
   "metadata": {},
   "outputs": [
    {
     "data": {
      "text/plain": [
       "8.0"
      ]
     },
     "execution_count": 134,
     "metadata": {},
     "output_type": "execute_result"
    }
   ],
   "source": [
    "func(64)"
   ]
  },
  {
   "cell_type": "code",
   "execution_count": 137,
   "id": "eddeec18",
   "metadata": {},
   "outputs": [
    {
     "name": "stdout",
     "output_type": "stream",
     "text": [
      "30\n"
     ]
    }
   ],
   "source": [
    "#31. Write a program to find the sum of all even numbers in a list.\n",
    "num = [1,2,3,4,5,6,7,8,9,10]\n",
    "sum=0\n",
    "for i in num:\n",
    "    if i%2==0:\n",
    "        sum = sum+i\n",
    "print(sum)"
   ]
  },
  {
   "cell_type": "code",
   "execution_count": 142,
   "id": "66f31505",
   "metadata": {},
   "outputs": [],
   "source": [
    "#32. Implement a function to calculate the power of a number using recursion.\n",
    "def func(base,exponent):\n",
    "    if exponent == 0:\n",
    "        return 1\n",
    "    else:\n",
    "        return base*func(base,exponent-1)"
   ]
  },
  {
   "cell_type": "code",
   "execution_count": 143,
   "id": "911e3c2a",
   "metadata": {},
   "outputs": [
    {
     "data": {
      "text/plain": [
       "1024"
      ]
     },
     "execution_count": 143,
     "metadata": {},
     "output_type": "execute_result"
    }
   ],
   "source": [
    "func(2,10)"
   ]
  },
  {
   "cell_type": "code",
   "execution_count": 150,
   "id": "c62243b0",
   "metadata": {},
   "outputs": [
    {
     "name": "stdout",
     "output_type": "stream",
     "text": [
      "not\n"
     ]
    }
   ],
   "source": [
    "#35. Write a program to check if a given number is a perfect square.\n",
    "num = 165\n",
    "for i in range(int(num/2)):\n",
    "    if i**2==num:\n",
    "        print(\"perfect square\")\n",
    "        break\n",
    "else:\n",
    "    print(\"not\")\n",
    "        "
   ]
  },
  {
   "cell_type": "code",
   "execution_count": 155,
   "id": "dc3eb1a6",
   "metadata": {},
   "outputs": [],
   "source": [
    "#36. Implement a function to calculate the product of all elements in a list.\n",
    "list = [1,2,3,4,5,6,7]\n",
    "\n",
    "def func(list):\n",
    "    product=1\n",
    "    for i in list:\n",
    "        product = product*i\n",
    "    return product"
   ]
  },
  {
   "cell_type": "code",
   "execution_count": 156,
   "id": "dde291b6",
   "metadata": {},
   "outputs": [
    {
     "data": {
      "text/plain": [
       "5040"
      ]
     },
     "execution_count": 156,
     "metadata": {},
     "output_type": "execute_result"
    }
   ],
   "source": [
    "func(list)"
   ]
  },
  {
   "cell_type": "code",
   "execution_count": 174,
   "id": "d1cc1002",
   "metadata": {},
   "outputs": [],
   "source": [
    "#39. Write a program to find the sum of digits of a given number.\n",
    "test_list = [11]\n",
    "result=map(lambda x: sum(int(y) for y in str(x)),l1)\n",
    "list(result)"
   ]
  },
  {
   "cell_type": "code",
   "execution_count": 178,
   "id": "70947a4c",
   "metadata": {},
   "outputs": [
    {
     "name": "stdout",
     "output_type": "stream",
     "text": [
      "duplicates remove program all Python a Write to from string\n"
     ]
    }
   ],
   "source": [
    "#45. Write a Python program to remove all duplicates from a string.\n",
    "string=\"Write a Python program to to remove all duplicates from a string\"\n",
    "print(' '.join(set(string.split(\" \"))))"
   ]
  },
  {
   "cell_type": "code",
   "execution_count": 199,
   "id": "15f4ff6a",
   "metadata": {},
   "outputs": [],
   "source": [
    "def remove_duplicated(str):\n",
    "    unique_str=[]\n",
    "    for i in str:\n",
    "        if i not in unique_str:\n",
    "            unique_str.append(i)\n",
    "    return ''.join(unique_str)"
   ]
  },
  {
   "cell_type": "code",
   "execution_count": 200,
   "id": "cd2f7a01",
   "metadata": {},
   "outputs": [],
   "source": [
    "str = \"sunset\""
   ]
  },
  {
   "cell_type": "code",
   "execution_count": 201,
   "id": "38e02302",
   "metadata": {},
   "outputs": [
    {
     "data": {
      "text/plain": [
       "'sunet'"
      ]
     },
     "execution_count": 201,
     "metadata": {},
     "output_type": "execute_result"
    }
   ],
   "source": [
    "remove_duplicated(str)"
   ]
  },
  {
   "cell_type": "code",
   "execution_count": null,
   "id": "d50c8204",
   "metadata": {},
   "outputs": [],
   "source": []
  }
 ],
 "metadata": {
  "kernelspec": {
   "display_name": "Python 3 (ipykernel)",
   "language": "python",
   "name": "python3"
  },
  "language_info": {
   "codemirror_mode": {
    "name": "ipython",
    "version": 3
   },
   "file_extension": ".py",
   "mimetype": "text/x-python",
   "name": "python",
   "nbconvert_exporter": "python",
   "pygments_lexer": "ipython3",
   "version": "3.10.9"
  }
 },
 "nbformat": 4,
 "nbformat_minor": 5
}
